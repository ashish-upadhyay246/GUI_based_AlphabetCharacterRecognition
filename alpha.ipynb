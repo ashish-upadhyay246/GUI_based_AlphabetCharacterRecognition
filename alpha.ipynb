{
 "cells": [
  {
   "cell_type": "markdown",
   "metadata": {},
   "source": [
    "Importing Libraries"
   ]
  },
  {
   "cell_type": "code",
   "execution_count": 1,
   "metadata": {},
   "outputs": [],
   "source": [
    "import cv2\n",
    "from tkinter import *\n",
    "from PIL import ImageGrab\n",
    "import numpy as np\n",
    "import tensorflow as tf\n",
    "import matplotlib.pyplot as plt\n",
    "import warnings\n",
    "warnings.simplefilter(\"ignore\")\n",
    "\n",
    "from tensorflow.keras.layers import Flatten, Dense\n",
    "from sklearn.model_selection import train_test_split\n",
    "from emnist import extract_training_samples, extract_test_samples"
   ]
  },
  {
   "cell_type": "markdown",
   "metadata": {},
   "source": [
    "Loading and splitting the data"
   ]
  },
  {
   "cell_type": "code",
   "execution_count": 2,
   "metadata": {},
   "outputs": [
    {
     "name": "stdout",
     "output_type": "stream",
     "text": [
      "<class 'numpy.ndarray'>\n",
      "99840\n",
      "24960\n"
     ]
    }
   ],
   "source": [
    "x_train, y_train = extract_training_samples('letters')\n",
    "x_test, y_test = extract_test_samples('letters')\n",
    "print(type(x_train))\n",
    "\n",
    "x_train, x_test, y_train, y_test = train_test_split(x_train, y_train, test_size=0.2, random_state=42)\n",
    "print(len(x_train))\n",
    "print(len(x_test))"
   ]
  },
  {
   "cell_type": "markdown",
   "metadata": {},
   "source": [
    "Normalizing the data"
   ]
  },
  {
   "cell_type": "code",
   "execution_count": 3,
   "metadata": {},
   "outputs": [],
   "source": [
    "x_train = x_train / 255.0  \n",
    "x_test = x_test / 255.0\n",
    "\n",
    "y_train = y_train - 1  \n",
    "y_test = y_test - 1"
   ]
  },
  {
   "cell_type": "markdown",
   "metadata": {},
   "source": [
    "Creating ANN layers"
   ]
  },
  {
   "cell_type": "code",
   "execution_count": 4,
   "metadata": {},
   "outputs": [],
   "source": [
    "model = tf.keras.models.Sequential()\n",
    "model.add(Flatten(input_shape=(28, 28)))\n",
    "model.add(Dense(512, activation=\"relu\"))\n",
    "model.add(Dense(256, activation=\"relu\"))\n",
    "model.add(Dense(128, activation=\"relu\"))\n",
    "model.add(Dense(64, activation=\"relu\"))\n",
    "model.add(Dense(32,activation=\"relu\"))\n",
    "model.add(Dense(26, activation=\"softmax\"))\n",
    "\n",
    "model.compile(optimizer=\"adam\", loss=\"sparse_categorical_crossentropy\", metrics=['accuracy'])"
   ]
  },
  {
   "cell_type": "markdown",
   "metadata": {},
   "source": [
    "Fitting the model"
   ]
  },
  {
   "cell_type": "code",
   "execution_count": 5,
   "metadata": {},
   "outputs": [
    {
     "name": "stdout",
     "output_type": "stream",
     "text": [
      "Epoch 1/11\n",
      "3120/3120 [==============================] - 30s 9ms/step - loss: 0.6816 - accuracy: 0.7921\n",
      "Epoch 2/11\n",
      "3120/3120 [==============================] - 27s 9ms/step - loss: 0.3592 - accuracy: 0.8832\n",
      "Epoch 3/11\n",
      "3120/3120 [==============================] - 27s 9ms/step - loss: 0.2947 - accuracy: 0.9035\n",
      "Epoch 4/11\n",
      "3120/3120 [==============================] - 27s 9ms/step - loss: 0.2558 - accuracy: 0.9152\n",
      "Epoch 5/11\n",
      "3120/3120 [==============================] - 27s 9ms/step - loss: 0.2274 - accuracy: 0.9238\n",
      "Epoch 6/11\n",
      "3120/3120 [==============================] - 26s 8ms/step - loss: 0.2078 - accuracy: 0.9298\n",
      "Epoch 7/11\n",
      "3120/3120 [==============================] - 27s 9ms/step - loss: 0.1900 - accuracy: 0.9345\n",
      "Epoch 8/11\n",
      "3120/3120 [==============================] - 26s 8ms/step - loss: 0.1769 - accuracy: 0.9380\n",
      "Epoch 9/11\n",
      "3120/3120 [==============================] - 26s 8ms/step - loss: 0.1648 - accuracy: 0.9423\n",
      "Epoch 10/11\n",
      "3120/3120 [==============================] - 26s 8ms/step - loss: 0.1568 - accuracy: 0.9444\n",
      "Epoch 11/11\n",
      "3120/3120 [==============================] - 26s 8ms/step - loss: 0.1498 - accuracy: 0.9468\n",
      "INFO:tensorflow:Assets written to: alphabets.model\\assets\n"
     ]
    },
    {
     "name": "stderr",
     "output_type": "stream",
     "text": [
      "INFO:tensorflow:Assets written to: alphabets.model\\assets\n"
     ]
    }
   ],
   "source": [
    "model.fit(x_train,y_train,epochs=11)\n",
    "model.save('alphabets.model')"
   ]
  },
  {
   "cell_type": "markdown",
   "metadata": {},
   "source": [
    "Evaluating the model"
   ]
  },
  {
   "cell_type": "code",
   "execution_count": 6,
   "metadata": {},
   "outputs": [
    {
     "name": "stdout",
     "output_type": "stream",
     "text": [
      "780/780 [==============================] - 1s 2ms/step - loss: 0.3368 - accuracy: 0.9102\n",
      "Test Loss: 0.3368, Test Accuracy: 0.9102\n"
     ]
    }
   ],
   "source": [
    "test_loss, test_accuracy = model.evaluate(x_test, y_test)\n",
    "print(f\"Test Loss: {test_loss:.4f}, Test Accuracy: {test_accuracy:.4f}\")"
   ]
  },
  {
   "cell_type": "markdown",
   "metadata": {},
   "source": [
    "Launch GUI"
   ]
  },
  {
   "cell_type": "code",
   "execution_count": 20,
   "metadata": {},
   "outputs": [
    {
     "name": "stdout",
     "output_type": "stream",
     "text": [
      "1/1 [==============================] - 0s 14ms/step\n",
      "\t\t\t\t  The letter is probably:\n",
      "\t\t\t\t\t\t' A '\n"
     ]
    },
    {
     "data": {
      "image/png": "[encoded data removed]",
      "text/plain": [
       "<Figure size 640x480 with 1 Axes>"
      ]
     },
     "metadata": {},
     "output_type": "display_data"
    }
   ],
   "source": [
    "drawing = False\n",
    "canvas = None\n",
    "brush_size=16\n",
    "\n",
    "def draw(event):\n",
    "    global drawing\n",
    "    if drawing:\n",
    "        x, y = event.x, event.y\n",
    "        canvas.create_oval(x, y, x+brush_size, y+brush_size, fill='black', outline='black')\n",
    "\n",
    "def brush_size_adjust(event):\n",
    "    global brush_size\n",
    "    if event.delta>0:\n",
    "        brush_size+=4\n",
    "    else:\n",
    "        brush_size-=4\n",
    "\n",
    "    canvas.delete(\"brush_size_text\")\n",
    "    canvas.create_text(10, 10, text=brush_size, fill='black', width=100, tags=\"brush_size_text\")\n",
    "\n",
    "def start(event):\n",
    "    global drawing\n",
    "    drawing = True\n",
    "\n",
    "def stop(event):\n",
    "    global drawing\n",
    "    drawing = False\n",
    "\n",
    "def get_image():\n",
    "    window.update()\n",
    "    x = window.winfo_rootx() + canvas.winfo_x()\n",
    "    y = window.winfo_rooty() + canvas.winfo_y()\n",
    "    x1 = x + canvas.winfo_width()\n",
    "    y1 = y + canvas.winfo_height()\n",
    "    img = ImageGrab.grab().crop((x, y, x1, y1))\n",
    "    img = img.resize((28, 28))\n",
    "    img = img.convert('L')\n",
    "    img = np.array(img)\n",
    "    img = np.invert(img)\n",
    "    img = img / 255.0\n",
    "    return img\n",
    "\n",
    "def predict():\n",
    "    img = get_image()\n",
    "    img = np.expand_dims(img, axis=0)\n",
    "    prediction = model.predict(img)\n",
    "    predicted_label = np.argmax(prediction)\n",
    "    recognized_character = chr(predicted_label + ord('A'))\n",
    "    print(\"\\t\\t\\t\\t  The letter is probably:\\n\\t\\t\\t\\t\\t\\t'\", recognized_character, \"'\")\n",
    "    plt.imshow(img[0], cmap=plt.cm.binary)\n",
    "    plt.show()\n",
    "    clear_canvas()\n",
    "\n",
    "def clear_canvas():\n",
    "    canvas.delete(\"all\")\n",
    "\n",
    "window = Tk()\n",
    "window.title(\"Draw a letter.\")\n",
    "canvas = Canvas(window, width=300, height=300, bg=\"white\")\n",
    "canvas.pack()\n",
    "canvas.bind(\"<B1-Motion>\", draw)\n",
    "canvas.bind(\"<ButtonPress-1>\", start)\n",
    "canvas.bind(\"<ButtonRelease-1>\", stop)\n",
    "canvas.bind(\"<MouseWheel>\", brush_size_adjust)\n",
    "\n",
    "predict_button = Button(window, text=\"PREDICT\", command=predict)\n",
    "predict_button.pack()\n",
    "\n",
    "output_label = Label(window, text=\"\")\n",
    "output_label.pack()\n",
    "\n",
    "window.mainloop()"
   ]
  }
 ],
 "metadata": {
  "kernelspec": {
   "display_name": "Python 3",
   "language": "python",
   "name": "python3"
  },
  "language_info": {
   "codemirror_mode": {
    "name": "ipython",
    "version": 3
   },
   "file_extension": ".py",
   "mimetype": "text/x-python",
   "name": "python",
   "nbconvert_exporter": "python",
   "pygments_lexer": "ipython3",
   "version": "3.11.5"
  },
  "orig_nbformat": 4
 },
 "nbformat": 4,
 "nbformat_minor": 2
}
